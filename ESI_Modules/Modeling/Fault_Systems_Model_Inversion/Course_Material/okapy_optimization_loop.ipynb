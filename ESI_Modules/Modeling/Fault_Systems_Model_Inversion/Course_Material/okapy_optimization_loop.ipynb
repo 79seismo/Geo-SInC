{
 "cells": [
  {
   "cell_type": "markdown",
   "metadata": {},
   "source": [
    "# Inversions with okapy and SciPy\n",
    "\n",
    "A simple inversion making use of the Powell algorithm built into the scipy.optimize.minimize function, the Okada model in okapy and our downsampled data in 'okinv' format to try to obtain a best-fitting model of an earthquake."
   ]
  },
  {
   "cell_type": "markdown",
   "metadata": {},
   "source": [
    "## Set it up! \n",
    "\n",
    "Let's start with some dependencies:"
   ]
  },
  {
   "cell_type": "code",
   "execution_count": 1,
   "metadata": {},
   "outputs": [],
   "source": [
    "from okapy import rect_shear_fault, los_penalty_fault\n",
    "from math import sin, cos, tan, radians, floor\n",
    "from matplotlib import cm, colors\n",
    "from scipy.optimize import minimize, Bounds\n",
    "import numpy as np\n",
    "import matplotlib.pyplot as plt"
   ]
  },
  {
   "cell_type": "markdown",
   "metadata": {},
   "source": [
    "## Defining the data, model parameters and elastic constants\n",
    "\n",
    "Load in the downsampled interfrogram data:"
   ]
  },
  {
   "cell_type": "code",
   "execution_count": 2,
   "metadata": {},
   "outputs": [],
   "source": [
    "data = np.loadtxt('./elazig_asc.okinv', delimiter=' ') # or wherever the file is on your system!\n",
    "data[:,0]*=1000  # convert x coord from km to m\n",
    "data[:,1]*=1000  # convert y coord from km to m"
   ]
  },
  {
   "cell_type": "markdown",
   "metadata": {},
   "source": [
    "Let's specify some parameters for our models: starting guesses and uncertainties"
   ]
  },
  {
   "cell_type": "code",
   "execution_count": 29,
   "metadata": {
    "scrolled": true
   },
   "outputs": [
    {
     "name": "stdout",
     "output_type": "stream",
     "text": [
      "example starting fault parameters:\n",
      "  strike: 41.466075165735404 dip: 104.12064869307622 rake: -32.733439372211635 slip: 3.125596966640256\n",
      "  xs: 509299.8774807178 ys: 4238513.491710906\n",
      "  length: 21706.831768460386 top: 3914.888279233442 bottom: 14528.897906591195\n"
     ]
    }
   ],
   "source": [
    "# for each quantity, starting guess is the first value, sigma the second\n",
    "strike = [60, 10]        # in degrees\n",
    "dip = [90, 15]           # in degrees\n",
    "rake = [1, 20]           # in degrees\n",
    "slip = [2, 0.75]          # in m\n",
    "xs = [500000, 5000]        # x coord of center of updip fault projection, in m \n",
    "ys = [4240000, 5000]       # y coord of same, in m\n",
    "as_length = [25000, 2000]     # along-strike fault length, in m\n",
    "top_depth = [4000, 2000]      # depth of top edge of fault, in m\n",
    "bottom_depth = [12000, 5000]  # depth to bottom edge of fault\n",
    "\n",
    "fpstart = np.array([strike[0], dip[0], rake[0], slip[0], xs[0], ys[0], as_length[0], top_depth[0], bottom_depth[0]])\n",
    "fpsigma = np.array([strike[1], dip[1], rake[1], slip[1], xs[1], ys[1], as_length[1], top_depth[1], bottom_depth[1]])\n",
    "\n",
    "# let's calculate some 2-sigma bounds on these starting values:\n",
    "fplowb = fpstart-2*np.array([strike[1], dip[1], rake[1], slip[1], xs[1], ys[1], as_length[1], top_depth[1], bottom_depth[1]])\n",
    "fphighb = fpstart+2*np.array([strike[1], dip[1], rake[1], slip[1], xs[1], ys[1], as_length[1], top_depth[1], bottom_depth[1]])\n",
    "\n",
    "# find a random starting model (assume flat pdf between lower and upper bounds)\n",
    "fparams_restart = fpstart + np.multiply(((np.random.random_sample(9)*4)-2),fpsigma)\n",
    "\n",
    "# sanity check of depths (make sure bottom depth is greater than top depth)\n",
    "if fparams_restart[7] > fparams_restart[8]:\n",
    "    bottom = fparams_restart[7]\n",
    "    fparams_restart[7] = fparams_restart[8] \n",
    "    fparams_restart[8] = bottom\n",
    "    \n",
    "# and output the starting model    \n",
    "print(\"example starting fault parameters:\")\n",
    "print('  strike:',fparams_restart[0],'dip:',fparams_restart[1],'rake:',fparams_restart[2],'slip:',fparams_restart[3])\n",
    "print('  xs:',fparams_restart[4],'ys:',fparams_restart[5])\n",
    "print('  length:',fparams_restart[6],'top:',fparams_restart[7],'bottom:',fparams_restart[8])"
   ]
  },
  {
   "cell_type": "markdown",
   "metadata": {},
   "source": [
    "Finally, let's define some elastic parameters, using some standard values:"
   ]
  },
  {
   "cell_type": "code",
   "execution_count": 14,
   "metadata": {},
   "outputs": [],
   "source": [
    "eparams = np.array([30e9, 30e9])  # 1st and 2nd Lame elastic parameters; try 30 GPa for both"
   ]
  },
  {
   "cell_type": "markdown",
   "metadata": {},
   "source": [
    "## Evaluating the penalty function for a random starting model\n",
    "\n",
    "We now have all the elements we need to calculate an initial penalty value, using the los_penalty_fault function in okapy. This function has the following syntax: \n",
    "\n",
    "<center>penalty=los_penalty_fault(fparams, eparams, data)</center>\n",
    "\n",
    "The output argument, 'penalty' is the total squared misfit of the model to the data, accounting for a zero-level shift.\n",
    "\n",
    "There are three input arguments, for which we have already seen examples. 'fparams' is a vector of fault parameters, of the type we have already seen (e.g. fstart, fparams_restart), 'eparams' contains elastic constants, and 'data' is a matrix of data point locations, values and line-of-sight parameters. (You may recognize that these are the same inputs that we used to compute our forward model displacements in the forward modeling notebook...)\n",
    "\n",
    "For example, we can evaluate the penalty function for our starting model:"
   ]
  },
  {
   "cell_type": "code",
   "execution_count": 15,
   "metadata": {},
   "outputs": [
    {
     "name": "stdout",
     "output_type": "stream",
     "text": [
      "initial penalty: 1.234511695741558 m^2\n"
     ]
    }
   ],
   "source": [
    "init_penalty = los_penalty_fault(fparams_restart, eparams, data)\n",
    "\n",
    "print('initial penalty:',init_penalty, 'm^2')"
   ]
  },
  {
   "cell_type": "markdown",
   "metadata": {},
   "source": [
    "## Optimizing fault parameters using the Powell algorithm in SciPy\n",
    "\n",
    "The <a href=\"https://docs.scipy.org/doc/scipy/reference/tutorial/optimize.html#constrained-minimization-of-multivariate-scalar-functions-minimize\">'optimize.minimize'</a> function in SciPy is a very flexible optimization package that can apply several different optimization algorithms to the problem of minimizing a specified nonlinear function. Here we want to find the parameter values that minimize our penalty function, 'los_penalty_fault'.\n",
    "\n",
    "We will make use of the <a href=\"https://en.wikipedia.org/wiki/Powell%27s_method\">Powell algorithm</a>, which is a 'direction set' minimization algorithm that, in our experience, works well for these sorts of problems. It allows us to specify bounds on the inversion parameters, which is particularly useful for limiting the range of models it will test. The Powell algorithm also requires a starting guess, for which we will use our random starting model ('fparams_restart'). \n",
    "\n",
    "Note that our 'los_penalty_fault' function has three input arguments &ndash; the fault parameters, the elastic parameters and the data. We only want the Powell algorithm to vary the first of these (which it does by default), but we need to pass all three to properly evaluate the penalty. scipy.optimize allows us to pass the additional arguments to the penalty function using the 'args' option."
   ]
  },
  {
   "cell_type": "code",
   "execution_count": 30,
   "metadata": {},
   "outputs": [
    {
     "name": "stdout",
     "output_type": "stream",
     "text": [
      "run 0, penalty: 0.113231, best penalty: 0.113231\n",
      "run 1, penalty: 0.117955, best penalty: 0.113231\n",
      "run 2, penalty: 0.182838, best penalty: 0.113231\n",
      "run 3, penalty: 0.113303, best penalty: 0.113231\n",
      "run 4, penalty: 0.109045, best penalty: 0.109045\n",
      "run 5, penalty: 0.111975, best penalty: 0.109045\n",
      "run 6, penalty: 0.109034, best penalty: 0.109034\n",
      "run 7, penalty: 0.152179, best penalty: 0.109034\n",
      "run 8, penalty: 0.436801, best penalty: 0.109034\n",
      "run 9, penalty: 0.128824, best penalty: 0.109034\n",
      "run 10, penalty: 0.114413, best penalty: 0.109034\n",
      "run 11, penalty: 0.120657, best penalty: 0.109034\n",
      "run 12, penalty: 0.347996, best penalty: 0.109034\n",
      "run 13, penalty: 0.109041, best penalty: 0.109034\n",
      "run 14, penalty: 0.113851, best penalty: 0.109034\n",
      "run 15, penalty: 0.110140, best penalty: 0.109034\n",
      "run 16, penalty: 0.321220, best penalty: 0.109034\n",
      "run 17, penalty: 0.118062, best penalty: 0.109034\n",
      "run 18, penalty: 0.115021, best penalty: 0.109034\n",
      "run 19, penalty: 0.196951, best penalty: 0.109034\n",
      "run 20, penalty: 0.113008, best penalty: 0.109034\n",
      "run 21, penalty: 0.236796, best penalty: 0.109034\n",
      "run 22, penalty: 0.109033, best penalty: 0.109033\n",
      "run 23, penalty: 0.113396, best penalty: 0.109033\n",
      "run 24, penalty: 0.113512, best penalty: 0.109033\n",
      "run 25, penalty: 0.109049, best penalty: 0.109033\n",
      "run 26, penalty: 0.131618, best penalty: 0.109033\n",
      "run 27, penalty: 0.111496, best penalty: 0.109033\n",
      "run 28, penalty: 0.113436, best penalty: 0.109033\n",
      "run 29, penalty: 0.281842, best penalty: 0.109033\n",
      "run 30, penalty: 0.111817, best penalty: 0.109033\n",
      "run 31, penalty: 0.269187, best penalty: 0.109033\n",
      "run 32, penalty: 0.177948, best penalty: 0.109033\n",
      "run 33, penalty: 0.126983, best penalty: 0.109033\n",
      "run 34, penalty: 0.114043, best penalty: 0.109033\n",
      "run 35, penalty: 0.114426, best penalty: 0.109033\n",
      "run 36, penalty: 0.186550, best penalty: 0.109033\n",
      "run 37, penalty: 0.182935, best penalty: 0.109033\n",
      "run 38, penalty: 0.158175, best penalty: 0.109033\n",
      "run 39, penalty: 0.109196, best penalty: 0.109033\n",
      "run 40, penalty: 0.115238, best penalty: 0.109033\n",
      "run 41, penalty: 0.109068, best penalty: 0.109033\n",
      "run 42, penalty: 0.113790, best penalty: 0.109033\n",
      "run 43, penalty: 0.121405, best penalty: 0.109033\n",
      "run 44, penalty: 0.116856, best penalty: 0.109033\n",
      "run 45, penalty: 0.109037, best penalty: 0.109033\n",
      "run 46, penalty: 0.135770, best penalty: 0.109033\n",
      "run 47, penalty: 0.115194, best penalty: 0.109033\n",
      "run 48, penalty: 0.109965, best penalty: 0.109033\n",
      "run 49, penalty: 0.114454, best penalty: 0.109033\n",
      "run 50, penalty: 0.115052, best penalty: 0.109033\n",
      "run 51, penalty: 0.122401, best penalty: 0.109033\n",
      "run 52, penalty: 0.908250, best penalty: 0.109033\n",
      "run 53, penalty: 0.116303, best penalty: 0.109033\n",
      "run 54, penalty: 0.114130, best penalty: 0.109033\n",
      "run 55, penalty: 0.267191, best penalty: 0.109033\n",
      "run 56, penalty: 0.109378, best penalty: 0.109033\n",
      "run 57, penalty: 0.109782, best penalty: 0.109033\n",
      "run 58, penalty: 0.183566, best penalty: 0.109033\n",
      "run 59, penalty: 0.109056, best penalty: 0.109033\n",
      "run 60, penalty: 0.414482, best penalty: 0.109033\n",
      "run 61, penalty: 0.176643, best penalty: 0.109033\n",
      "run 62, penalty: 0.117933, best penalty: 0.109033\n",
      "run 63, penalty: 0.114118, best penalty: 0.109033\n",
      "run 64, penalty: 0.109036, best penalty: 0.109033\n",
      "run 65, penalty: 0.111839, best penalty: 0.109033\n",
      "run 66, penalty: 0.109072, best penalty: 0.109033\n",
      "run 67, penalty: 0.114290, best penalty: 0.109033\n",
      "run 68, penalty: 0.132282, best penalty: 0.109033\n",
      "run 69, penalty: 0.111530, best penalty: 0.109033\n",
      "run 70, penalty: 0.232264, best penalty: 0.109033\n",
      "run 71, penalty: 0.212017, best penalty: 0.109033\n",
      "run 72, penalty: 0.113962, best penalty: 0.109033\n",
      "run 73, penalty: 0.109140, best penalty: 0.109033\n",
      "run 74, penalty: 0.113858, best penalty: 0.109033\n",
      "run 75, penalty: 0.257681, best penalty: 0.109033\n",
      "run 76, penalty: 0.486103, best penalty: 0.109033\n",
      "run 77, penalty: 0.112572, best penalty: 0.109033\n",
      "run 78, penalty: 0.109043, best penalty: 0.109033\n",
      "run 79, penalty: 0.110387, best penalty: 0.109033\n",
      "run 80, penalty: 0.438533, best penalty: 0.109033\n",
      "run 81, penalty: 0.112889, best penalty: 0.109033\n",
      "run 82, penalty: 0.112808, best penalty: 0.109033\n",
      "run 83, penalty: 0.114741, best penalty: 0.109033\n",
      "run 84, penalty: 0.114416, best penalty: 0.109033\n",
      "run 85, penalty: 0.109044, best penalty: 0.109033\n",
      "run 86, penalty: 0.113338, best penalty: 0.109033\n",
      "run 87, penalty: 0.153857, best penalty: 0.109033\n",
      "run 88, penalty: 0.979490, best penalty: 0.109033\n",
      "run 89, penalty: 0.110905, best penalty: 0.109033\n",
      "run 90, penalty: 0.270053, best penalty: 0.109033\n",
      "run 91, penalty: 0.149186, best penalty: 0.109033\n",
      "run 92, penalty: 0.109070, best penalty: 0.109033\n",
      "run 93, penalty: 0.109496, best penalty: 0.109033\n",
      "run 94, penalty: 0.111152, best penalty: 0.109033\n",
      "run 95, penalty: 0.130345, best penalty: 0.109033\n",
      "run 96, penalty: 0.933889, best penalty: 0.109033\n",
      "run 97, penalty: 0.109081, best penalty: 0.109033\n",
      "run 98, penalty: 0.122558, best penalty: 0.109033\n",
      "run 99, penalty: 0.203024, best penalty: 0.109033\n"
     ]
    }
   ],
   "source": [
    "bestfun=10000000\n",
    "\n",
    "for i in range(100):\n",
    "\n",
    "# find a random starting model (assume flat pdf between lower and upper bounds)\n",
    "    fparams_restart = fpstart + np.multiply(((np.random.random_sample(9)*4)-2),fpsigma)\n",
    "\n",
    "# sanity check of depths (make sure bottom depth is greater than top depth)\n",
    "    if fparams_restart[7] > fparams_restart[8]:\n",
    "        bottom = fparams_restart[7]\n",
    "        fparams_restart[7] = fparams_restart[8] \n",
    "        fparams_restart[8] = bottom\n",
    "\n",
    "# the scipy.optimize way of setting bounds:\n",
    "    fpbounds = Bounds(fplowb,fphighb)\n",
    "\n",
    "# and run the Powell algorithm minimizer! \n",
    "    results = minimize(los_penalty_fault, fparams_restart, args=(eparams, data),  method='Powell', \n",
    "                   bounds=fpbounds)\n",
    "\n",
    "    if results.fun<bestfun:\n",
    "        bestfun=results.fun\n",
    "        bestparams = results.x\n",
    "        \n",
    "    print(\"run {0:d}, penalty: {1:f}, best penalty: {2:f}\".format(i,results.fun,bestfun)) "
   ]
  },
  {
   "cell_type": "markdown",
   "metadata": {},
   "source": [
    "We can look at the results of this optimization run, by printing the contents of 'results':"
   ]
  },
  {
   "cell_type": "code",
   "execution_count": 31,
   "metadata": {},
   "outputs": [
    {
     "data": {
      "text/plain": [
       "0.10903328710683108"
      ]
     },
     "execution_count": 31,
     "metadata": {},
     "output_type": "execute_result"
    }
   ],
   "source": [
    "bestfun"
   ]
  },
  {
   "cell_type": "code",
   "execution_count": 32,
   "metadata": {},
   "outputs": [
    {
     "data": {
      "text/plain": [
       "array([ 5.89834855e+01,  9.84531911e+01, -1.52550469e+01,  7.32238319e-01,\n",
       "        4.99241223e+05,  4.23994529e+06,  2.89999974e+04,  2.79875955e+03,\n",
       "        1.68497202e+04])"
      ]
     },
     "execution_count": 32,
     "metadata": {},
     "output_type": "execute_result"
    }
   ],
   "source": [
    "bestparams"
   ]
  },
  {
   "cell_type": "code",
   "execution_count": 21,
   "metadata": {},
   "outputs": [
    {
     "data": {
      "text/plain": [
       "   direc: array([[ 1.00000000e+00,  0.00000000e+00,  0.00000000e+00,\n",
       "         0.00000000e+00,  0.00000000e+00,  0.00000000e+00,\n",
       "         0.00000000e+00,  0.00000000e+00,  0.00000000e+00],\n",
       "       [ 1.02152489e-01,  1.84890445e-01,  8.08715799e-01,\n",
       "        -6.41665861e-03,  8.53225833e+00,  3.63847660e+00,\n",
       "         0.00000000e+00, -6.17204216e+01, -1.16796347e+01],\n",
       "       [ 3.65801476e-02,  9.96452697e-02, -1.36191541e-01,\n",
       "        -2.73123341e-02, -3.19244465e+00, -3.81908844e+00,\n",
       "         0.00000000e+00, -5.46550858e+01,  2.26895211e+02],\n",
       "       [ 1.30106878e-01,  3.50639298e-01,  4.49088643e-01,\n",
       "        -4.71845767e-03, -1.37626802e+02, -6.71614972e+01,\n",
       "         0.00000000e+00, -1.24734505e+02, -2.78560857e+02],\n",
       "       [ 0.00000000e+00,  0.00000000e+00,  0.00000000e+00,\n",
       "         0.00000000e+00,  1.00000000e+00,  0.00000000e+00,\n",
       "         0.00000000e+00,  0.00000000e+00,  0.00000000e+00],\n",
       "       [-1.60746200e-01, -1.49392221e+00, -3.55061106e-01,\n",
       "        -4.91955719e-03,  2.55389266e+01,  5.84170255e+01,\n",
       "         0.00000000e+00, -3.12857511e+01,  3.02473503e+01],\n",
       "       [ 0.00000000e+00,  0.00000000e+00,  0.00000000e+00,\n",
       "         0.00000000e+00,  0.00000000e+00,  0.00000000e+00,\n",
       "         1.00000000e+00,  0.00000000e+00,  0.00000000e+00],\n",
       "       [ 2.59904955e-02,  2.12967408e-01,  8.53553850e-01,\n",
       "         9.21377434e-03,  6.38769332e+01,  5.16823427e+01,\n",
       "         0.00000000e+00, -7.51407959e+01, -9.06851161e+01],\n",
       "       [-5.84418701e-07, -1.54072605e-06,  3.43109650e-06,\n",
       "         4.71941571e-07,  2.89988341e-04,  2.56950543e-04,\n",
       "        -0.00000000e+00,  1.17165237e-03, -6.21546469e-03]])\n",
       "     fun: 0.11018985193726422\n",
       " message: 'Optimization terminated successfully.'\n",
       "    nfev: 4717\n",
       "     nit: 23\n",
       "  status: 0\n",
       " success: True\n",
       "       x: array([ 5.90490429e+01,  9.72494602e+01, -1.33304890e+01,  1.00000049e+00,\n",
       "        4.99316442e+05,  4.23999187e+06,  2.89999974e+04,  3.44065546e+03,\n",
       "        1.26850687e+04])"
      ]
     },
     "execution_count": 21,
     "metadata": {},
     "output_type": "execute_result"
    }
   ],
   "source": [
    "results"
   ]
  },
  {
   "cell_type": "markdown",
   "metadata": {},
   "source": [
    "Of these, 'direc' shows directions in parameter space that the algorithm took; 'fun' is the final, minimum value of the penalty function; 'nfev' is the number of penalty function evaluations (which might explain the delay in getting a result); 'nit' is the number of iterations (direction changes), and 'x' is the final set of fault parameters (that correspond to the minimum penalty, 'fun'). \n",
    "\n",
    "We can extract the values of interest here, and hopefully verify that the final penalty is smaller than the one we started with:  "
   ]
  },
  {
   "cell_type": "code",
   "execution_count": 19,
   "metadata": {},
   "outputs": [
    {
     "name": "stdout",
     "output_type": "stream",
     "text": [
      "final fault parameters:\n",
      "  strike: 61.75665053078538  dip: 104.9999650050302  rake: 10.340869469829356  slip: 1.0000482298967865\n",
      "  xs: 499429.2572369563  ys: 4240057.636516777\n",
      "  length: 28999.997785783497  top: 1433.0045366703112  bottom: 12487.083203284299\n",
      "initial penalty: 17.97845277912776 m^2  final penalty: 0.1301886620052135 m^2\n"
     ]
    }
   ],
   "source": [
    "fparams_out = results.x\n",
    "output_penalty = results.fun\n",
    "\n",
    "print(\"final fault parameters:\")\n",
    "print('  strike:',fparams_out[0],' dip:',fparams_out[1],' rake:',fparams_out[2],' slip:',fparams_out[3])\n",
    "print('  xs:',fparams_out[4],' ys:',fparams_out[5])\n",
    "print('  length:',fparams_out[6],' top:',fparams_out[7],' bottom:',fparams_out[8])\n",
    "print('initial penalty:',init_penalty,'m^2  final penalty:',output_penalty,'m^2')"
   ]
  },
  {
   "cell_type": "markdown",
   "metadata": {},
   "source": [
    "## Local vs global minima\n",
    "\n",
    "Technically, what our single run of the Powell algorithm has found is a 'local minimum' of the penalty function. For complicated functions, such as the penalty function of an Okada model fitted to InSAR data that contain noise (our situation!) it is usually the case that there are several, or perhaps many such minima. It's analous to finding the deepest point on the surface of the Moon, by always taking the steepest path downhill. Eventually, you will walk into a crater, and find your way to the bottom of it. But what if two craters over, there is a deeper one?\n",
    "\n",
    "The problem of finding a 'global minimum' of the penalty function, corresponding to the best-fitting of all possible models, is not straightforward or exact. Following the crater analogy, it can be very dependent on your starting location &ndash; sometimes you need to start away from smaller holes in order to walk into bigger ones! Which is why, when we set up this optimization problem, we randomized our starting guess of the answer. You also have to be careful to specify solution bounds large enough that the neighborhood of the best answer is covered. \n",
    "\n",
    "By comparing your answer with your classmates' answers, which originated from different random starting guesses, within a fairly conservative set of bounds,  you should be able to see if there are smaller misfits out there. Or alternatively, if you don't want to crowdsource the problem, you could loop through a large number (say 100) of optimization runs with randomised starting guesses (you will often see these described as 'Monte Carlo restarts'), and retain the best models and penalties from each, in order to find a global minimum solution. \n",
    "\n",
    "Paste the best answer you can find here:"
   ]
  },
  {
   "cell_type": "code",
   "execution_count": 33,
   "metadata": {},
   "outputs": [],
   "source": [
    "best_fparams=[5.89834855e+01,  9.84531911e+01, -1.52550469e+01,  7.32238319e-01,\n",
    "        4.99241223e+05,  4.23994529e+06,  2.89999974e+04,  2.79875955e+03,\n",
    "        1.68497202e+04]\n",
    "best_penalty=0.10903328710683108"
   ]
  },
  {
   "cell_type": "markdown",
   "metadata": {},
   "source": [
    "## It is good practice to plot your results and residuals\n",
    "\n",
    "We can use the routines we developed in earlier notebooks to do this!"
   ]
  },
  {
   "cell_type": "code",
   "execution_count": 34,
   "metadata": {},
   "outputs": [
    {
     "data": {
      "image/png": "[encoded data removed]",
      "text/plain": [
       "<Figure size 1296x576 with 4 Axes>"
      ]
     },
     "metadata": {
      "needs_background": "light"
     },
     "output_type": "display_data"
    }
   ],
   "source": [
    "# calculate the displacements\n",
    "model_los_disps = rect_shear_fault(best_fparams, eparams, data)\n",
    "\n",
    "# calculate the mean residual\n",
    "zero_shift = np.mean(data[:,2]-model_los_disps)\n",
    "\n",
    "# calculate the residual without nuisances...\n",
    "shifted_data = data[:,2]-zero_shift\n",
    "residual_los_disps = model_los_disps-shifted_data\n",
    "\n",
    "# color limits based on the shifted data\n",
    "cmin, cmax = shifted_data.min(), shifted_data.max()\n",
    "\n",
    "fig, (ax1,ax2,ax3) = plt.subplots(ncols=3,figsize=(18,8))\n",
    "axlist = [ax1,ax2,ax3]   # handles for your subplots\n",
    "\n",
    "# scatter with colormap mapping to z value\n",
    "scat=ax1.scatter(data[:,0],data[:,1],s=20,c=shifted_data, marker = 'o', cmap = cm.jet, vmin = cmin, vmax = cmax);\n",
    "ax1.set_xlabel(\"UTM x (m)\",fontsize=12)\n",
    "ax1.set_ylabel(\"UTM y (m)\",fontsize=12)\n",
    "ax1.title.set_text('data')\n",
    "ax1.grid(True,linestyle='-',color='0.75')\n",
    "ax1.set_aspect('equal')\n",
    "\n",
    "# scatter with colormap mapping to z value\n",
    "scat=ax2.scatter(data[:,0],data[:,1],s=20,c=model_los_disps, marker = 'o', cmap = cm.jet, vmin = cmin, vmax = cmax);\n",
    "ax2.set_xlabel(\"UTM x (m)\",fontsize=12)\n",
    "ax2.title.set_text('inverse model')\n",
    "ax2.grid(True,linestyle='-',color='0.75')\n",
    "ax2.set_aspect('equal')\n",
    "\n",
    "# scatter with colormap mapping to z value\n",
    "scat=ax3.scatter(data[:,0],data[:,1],s=20,c=residual_los_disps, marker = 'o', cmap = cm.jet, vmin = cmin, vmax = cmax);\n",
    "ax3.set_xlabel(\"UTM x (m)\",fontsize=12)\n",
    "ax3.title.set_text('residual')\n",
    "ax3.grid(True,linestyle='-',color='0.75')\n",
    "ax3.set_aspect('equal')\n",
    "\n",
    "clb=fig.colorbar(scat,ax=axlist)\n",
    "clb.ax.set_title('LOS disp (m)')\n",
    "\n",
    "plt.show();"
   ]
  },
  {
   "cell_type": "code",
   "execution_count": null,
   "metadata": {},
   "outputs": [],
   "source": []
  }
 ],
 "metadata": {
  "kernelspec": {
   "display_name": "Python 3",
   "language": "python",
   "name": "python3"
  },
  "language_info": {
   "codemirror_mode": {
    "name": "ipython",
    "version": 3
   },
   "file_extension": ".py",
   "mimetype": "text/x-python",
   "name": "python",
   "nbconvert_exporter": "python",
   "pygments_lexer": "ipython3",
   "version": "3.8.8"
  }
 },
 "nbformat": 4,
 "nbformat_minor": 4
}
